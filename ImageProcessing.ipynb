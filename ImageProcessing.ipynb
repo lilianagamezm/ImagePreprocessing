{
 "cells": [
  {
   "cell_type": "code",
   "execution_count": 1,
   "metadata": {},
   "outputs": [],
   "source": [
    "import cv2 as cv\n",
    "from os import listdir\n",
    "import os\n",
    "import glob\n",
    "import timeit\n",
    "from os.path import isfile\n",
    "from os.path import join\n",
    "import matplotlib.pyplot as plt\n",
    "import pandas as pd"
   ]
  },
  {
   "cell_type": "code",
   "execution_count": 2,
   "metadata": {},
   "outputs": [],
   "source": [
    "#Setup directory and directory list of raw images\n",
    "globdir=glob.glob(r\"RawImages\\*.jpg\")\n",
    "locdir=listdir(\"RawImages\")"
   ]
  },
  {
   "cell_type": "code",
   "execution_count": 3,
   "metadata": {},
   "outputs": [],
   "source": [
    "#Create list of image names\n",
    "filesname=[f.split(\".\")[0] for f in locdir if isfile(join(r\"RawImages\",f))]"
   ]
  },
  {
   "cell_type": "code",
   "execution_count": 4,
   "metadata": {},
   "outputs": [
    {
     "data": {
      "text/plain": [
       "['A3',\n",
       " 'AF19',\n",
       " 'D2',\n",
       " 'D25',\n",
       " 'E22',\n",
       " 'G11',\n",
       " 'H13',\n",
       " 'H24',\n",
       " 'J6',\n",
       " 'L18',\n",
       " 'M7',\n",
       " 'T21',\n",
       " 'U25',\n",
       " 'Y18',\n",
       " 'Y3',\n",
       " 'Y7']"
      ]
     },
     "execution_count": 4,
     "metadata": {},
     "output_type": "execute_result"
    }
   ],
   "source": [
    "filesname"
   ]
  },
  {
   "cell_type": "code",
   "execution_count": null,
   "metadata": {},
   "outputs": [],
   "source": [
    "#Find image properties\n",
    "start = timeit.default_timer()\n",
    "h_values=[]\n",
    "h_unique_values=[]\n",
    "w_values=[]\n",
    "w_unique_values=[]\n",
    "px=[]\n",
    "px_uniqueval=[]\n",
    "dat_type=[]\n",
    "dtype_unique=[]\n",
    "chann=[]\n",
    "channels_unique=[]\n",
    "count=0\n",
    "for img in globdir:\n",
    "    image=cv.imread(img)\n",
    "    count+=1\n",
    "    height,width=image.shape[:2]\n",
    "    channels=image.shape[2]\n",
    "    h_values.append(height)\n",
    "    w_values.append(width)\n",
    "    chann.append(channels)\n",
    "    px.append(image.size)\n",
    "    dat_type.append(image.dtype)\n",
    "    \n",
    "    for hval in h_values:\n",
    "        if hval not in h_unique_values:\n",
    "            h_unique_values.append(hval)\n",
    "            \n",
    "    for wval in w_values:\n",
    "        if wval not in w_unique_values:\n",
    "            w_unique_values.append(wval)\n",
    "            \n",
    "    for pxval in px:\n",
    "        if pxval not in px_uniqueval:\n",
    "            px_uniqueval.append(pxval)\n",
    "            \n",
    "    for dt in dat_type:\n",
    "        if dt not in dtype_unique:\n",
    "            dtype_unique.append(dt)\n",
    "    \n",
    "    for ch in chann:\n",
    "        if ch not in channels_unique:\n",
    "            channels_unique.append(ch)\n",
    "                  \n",
    "print(\"Properties of images in folder:\")            \n",
    "print(len(dtype_unique),\"different data types found:\",dtype_unique)            \n",
    "print(len(px_uniqueval),\"different pixel number found:\",px_uniqueval)            \n",
    "print(len(w_unique_values),\"different image widths found:\",  w_unique_values)                   \n",
    "print(len(h_unique_values),\"different image heights found:\",  h_unique_values)\n",
    "print(len(channels_unique),\"different number of channels found:\",channels_unique)\n",
    "print(\"total images in folder:\",count)\n",
    "end = timeit.default_timer()\n",
    "\n",
    "#Measurement of execution time\n",
    "print(\"Execution time (image/secod):\",end-start/count)\n",
    "print(\"Total execution time (seconds):\",end-start)"
   ]
  },
  {
   "cell_type": "code",
   "execution_count": null,
   "metadata": {},
   "outputs": [],
   "source": [
    "#Create dataframe and export as csv file\n",
    "d={\"image name\":filesname,\"data type\":dat_type,\"image height\":h_values,\"image width\":w_values,\"pixels\":px,\"channels\":chann}\n",
    "df=pd.DataFrame(data=d)\n",
    "df.to_csv(\"ImagePropertyOutput.csv\",index=False)"
   ]
  },
  {
   "cell_type": "code",
   "execution_count": null,
   "metadata": {},
   "outputs": [],
   "source": [
    "#Create new directory to store raw histograms\n",
    "os.mkdir(\"RawHistogram\")"
   ]
  },
  {
   "cell_type": "code",
   "execution_count": null,
   "metadata": {},
   "outputs": [],
   "source": [
    "#Create new directory to store resized images\n",
    "resiz_img=os.mkdir(\"ResizedImage\")"
   ]
  },
  {
   "cell_type": "code",
   "execution_count": null,
   "metadata": {},
   "outputs": [],
   "source": [
    "#Create new directory to store resized histogram\n",
    "resiz_img=os.mkdir(\"ResizedHistogram\")"
   ]
  },
  {
   "cell_type": "code",
   "execution_count": null,
   "metadata": {},
   "outputs": [],
   "source": [
    "#Return histograms of raw images and save them in RawHistogram directory\n",
    "bins=80 #setup number of bins for histogram\n",
    "min_range=0 #setup minimun range of histogram\n",
    "max_range=100 #setup maximun range of histogram\n",
    "for rh in range(len(globdir)):\n",
    "    img=cv.imread(globdir[rh])\n",
    "    plt.tight_layout()\n",
    "    plt.hist(img.ravel(),bins,[min_range,max_range])\n",
    "    plt.title(filesname[rh])\n",
    "    plt.grid(False)\n",
    "    plt.savefig('RawHistogram/Histogram_'+filesname[rh])\n",
    "    plt.show()"
   ]
  },
  {
   "cell_type": "code",
   "execution_count": null,
   "metadata": {},
   "outputs": [],
   "source": [
    "#Resize images, name with original names, and store them in ResizedImage directory\n",
    "\n",
    "fr=4 #value to fraction and resize the image\n",
    "for a in range(len(globdir)): \n",
    "    image_new=cv.imread(globdir[a])\n",
    "    new_width=width/fr\n",
    "    new_height=height/fr\n",
    "    res=cv.resize(image_new,(int(new_width),int(new_height)),interpolation=cv.INTER_CUBIC)\n",
    "    cv.imwrite(\"ResizedImage/\"+filesname[a]+\".jpg\",res)"
   ]
  },
  {
   "cell_type": "code",
   "execution_count": null,
   "metadata": {},
   "outputs": [],
   "source": [
    "#Return histograms of resized images and store them in ResizedHistogram\n",
    "new_dir=glob.glob(r\"ResizedImage\\*.jpg\") #setup directory of resized images\n",
    "\n",
    "for ri in range(len(new_dir)):\n",
    "    img_ri=cv.imread(new_dir[ri])\n",
    "    plt.tight_layout()\n",
    "    plt.hist(img_ri.ravel(),bins,[min_range,max_range])\n",
    "    plt.title(filesname[ri])\n",
    "    plt.grid(False)\n",
    "    plt.savefig('ResizedHistogram/Histogram_'+filesname[ri])\n",
    "    plt.show()"
   ]
  },
  {
   "cell_type": "code",
   "execution_count": null,
   "metadata": {},
   "outputs": [],
   "source": []
  }
 ],
 "metadata": {
  "kernelspec": {
   "display_name": "Python 3",
   "language": "python",
   "name": "python3"
  },
  "language_info": {
   "codemirror_mode": {
    "name": "ipython",
    "version": 3
   },
   "file_extension": ".py",
   "mimetype": "text/x-python",
   "name": "python",
   "nbconvert_exporter": "python",
   "pygments_lexer": "ipython3",
   "version": "3.7.4"
  }
 },
 "nbformat": 4,
 "nbformat_minor": 2
}
